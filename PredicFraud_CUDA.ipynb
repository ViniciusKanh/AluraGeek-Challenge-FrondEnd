{
  "nbformat": 4,
  "nbformat_minor": 0,
  "metadata": {
    "colab": {
      "provenance": [],
      "authorship_tag": "ABX9TyNmiAol1nDMAt4n9snuZtBL"
    },
    "kernelspec": {
      "name": "python3",
      "display_name": "Python 3"
    },
    "language_info": {
      "name": "python"
    }
  },
  "cells": [
    {
      "cell_type": "markdown",
      "source": [
        "# Classificação com conceitos"
      ],
      "metadata": {
        "id": "RA2KwvGruB8T"
      }
    },
    {
      "cell_type": "code",
      "execution_count": null,
      "metadata": {
        "colab": {
          "base_uri": "https://localhost:8080/"
        },
        "id": "XJBaAtek7st0",
        "outputId": "b1452582-fe4a-4a3f-df4e-5d30a1bd3972"
      },
      "outputs": [
        {
          "output_type": "stream",
          "name": "stdout",
          "text": [
            "Mounted at /content/drive\n"
          ]
        }
      ],
      "source": [
        "from google.colab import drive\n",
        "drive.mount('/content/drive')"
      ]
    },
    {
      "cell_type": "code",
      "source": [
        "!pip install xgboost catboost lightgbm scikit-learn matplotlib"
      ],
      "metadata": {
        "id": "nLyBzJLO89RZ"
      },
      "execution_count": null,
      "outputs": []
    },
    {
      "cell_type": "code",
      "source": [
        "!pip install lightgbm --install-option=--gpu"
      ],
      "metadata": {
        "id": "DAL1O-Zk_0kA"
      },
      "execution_count": null,
      "outputs": []
    },
    {
      "cell_type": "code",
      "source": [
        "!apt-get install -y -qq libboost-all-dev"
      ],
      "metadata": {
        "id": "EudcNew0A_hz"
      },
      "execution_count": null,
      "outputs": []
    },
    {
      "cell_type": "code",
      "source": [
        "!git clone --recursive https://github.com/Microsoft/LightGBM\n",
        "%cd LightGBM\n",
        "!mkdir build\n",
        "%cd build\n",
        "!cmake -DUSE_GPU=1 ..\n",
        "!make -j$(nproc)\n",
        "!sudo make install\n",
        "!sudo apt-get -y install python-pip\n",
        "%cd ../python-package\n",
        "!sudo python setup.py install --precompile"
      ],
      "metadata": {
        "id": "08T4Ir0KBCge"
      },
      "execution_count": null,
      "outputs": []
    },
    {
      "cell_type": "code",
      "source": [
        "import lightgbm as lgb\n",
        "print('Compilado com suporte a GPU:', lgb.__file__)"
      ],
      "metadata": {
        "id": "AY-eSfUzALxs"
      },
      "execution_count": null,
      "outputs": []
    },
    {
      "cell_type": "code",
      "source": [
        "%cd /content/LightGBM\n",
        "!mkdir build\n",
        "%cd build\n",
        "!cmake -DUSE_GPU=1 ..\n",
        "!make -j$(nproc)\n",
        "!sudo make install\n",
        "!sudo ldconfig\n",
        "%cd /content/LightGBM/python-package\n",
        "!sudo python setup.py install --precompile\n"
      ],
      "metadata": {
        "id": "ss4t1LMaItrR"
      },
      "execution_count": null,
      "outputs": []
    },
    {
      "cell_type": "code",
      "source": [
        "import lightgbm as lgb\n",
        "print('Versão do LightGBM:', lgb.__version__)\n",
        "print('Caminho do pacote:', lgb.__file__)"
      ],
      "metadata": {
        "colab": {
          "base_uri": "https://localhost:8080/"
        },
        "id": "Mg42fBhFEePf",
        "outputId": "68ed4013-76e5-45b3-9c40-5456880e2d84"
      },
      "execution_count": null,
      "outputs": [
        {
          "output_type": "stream",
          "name": "stdout",
          "text": [
            "Versão do LightGBM: 4.1.0\n",
            "Caminho do pacote: /usr/local/lib/python3.10/dist-packages/lightgbm/__init__.py\n"
          ]
        }
      ]
    },
    {
      "cell_type": "code",
      "source": [
        "!nvidia-smi\n"
      ],
      "metadata": {
        "colab": {
          "base_uri": "https://localhost:8080/"
        },
        "id": "nkcUwSJcp9HD",
        "outputId": "fa3ece6f-4d9c-4e95-e333-4de553831f5f"
      },
      "execution_count": null,
      "outputs": [
        {
          "output_type": "stream",
          "name": "stdout",
          "text": [
            "NVIDIA-SMI has failed because it couldn't communicate with the NVIDIA driver. Make sure that the latest NVIDIA driver is installed and running.\n",
            "\n"
          ]
        }
      ]
    },
    {
      "cell_type": "markdown",
      "source": [
        "### Importando Bibliotecas\n"
      ],
      "metadata": {
        "id": "fRrLlglD9hMj"
      }
    },
    {
      "cell_type": "code",
      "source": [
        "import matplotlib.pyplot as plt\n",
        "import numpy as np\n",
        "import pandas as pd\n",
        "import time\n",
        "from sklearn.model_selection import train_test_split\n",
        "from sklearn.preprocessing import LabelEncoder\n",
        "from sklearn.metrics import accuracy_score, f1_score\n",
        "import xgboost as xgb\n",
        "from sklearn.ensemble import RandomForestClassifier\n",
        "import lightgbm as lgb\n",
        "from catboost import CatBoostClassifier\n",
        "import tensorflow as tf"
      ],
      "metadata": {
        "id": "r37YTw3h9qWY"
      },
      "execution_count": null,
      "outputs": []
    },
    {
      "cell_type": "markdown",
      "source": [
        "### Função para carregar o Dataset"
      ],
      "metadata": {
        "id": "hyNRj-ng9l_0"
      }
    },
    {
      "cell_type": "code",
      "source": [
        "def load_data():\n",
        "    # Dummy data loading\n",
        "    data = pd.read_csv('/content/drive/My Drive/0-Dataset/Projeto - Predict-Fraud - HPC/fraud_balanced.csv')\n",
        "    return data"
      ],
      "metadata": {
        "id": "KJ1ZYhPX9pHQ"
      },
      "execution_count": null,
      "outputs": []
    },
    {
      "cell_type": "markdown",
      "source": [
        "### Processando a Base de Dados"
      ],
      "metadata": {
        "id": "pRMW-g2d9sfx"
      }
    },
    {
      "cell_type": "code",
      "source": [
        "def preprocess_data(data):\n",
        "    label_encoder = LabelEncoder()\n",
        "    data['is_fraud'] = label_encoder.fit_transform(data['is_fraud'])\n",
        "    return data"
      ],
      "metadata": {
        "id": "BAl52YE79wwf"
      },
      "execution_count": null,
      "outputs": []
    },
    {
      "cell_type": "markdown",
      "source": [
        "### Criando o modelo"
      ],
      "metadata": {
        "id": "zu5e4lA091pa"
      }
    },
    {
      "cell_type": "code",
      "source": [
        "def create_model(input_shape):\n",
        "    model = tf.keras.Sequential([\n",
        "        tf.keras.layers.Dense(128, activation='relu', input_shape=(input_shape,)),\n",
        "        tf.keras.layers.Dense(64, activation='relu'),\n",
        "        tf.keras.layers.Dense(1, activation='sigmoid')\n",
        "    ])\n",
        "    model.compile(optimizer='adam', loss='binary_crossentropy', metrics=['accuracy'])\n",
        "    return model"
      ],
      "metadata": {
        "id": "1gbPmfOj90-P"
      },
      "execution_count": null,
      "outputs": []
    },
    {
      "cell_type": "markdown",
      "source": [
        "### Treinando e Avaliando"
      ],
      "metadata": {
        "id": "f8cCx-lG9-ts"
      }
    },
    {
      "cell_type": "code",
      "source": [
        "def train_and_evaluate(data):\n",
        "    X = data.drop('is_fraud', axis=1)\n",
        "    y = data['is_fraud']\n",
        "    X_train, X_test, y_train, y_test = train_test_split(X, y, test_size=0.2, random_state=42)\n",
        "\n",
        "    models = {\n",
        "        'XGBoost': xgb.XGBClassifier(tree_method='hist', use_label_encoder=False, eval_metric='logloss'),\n",
        "        'RandomForest': RandomForestClassifier(),\n",
        "        'LightGBM': lgb.LGBMClassifier(),\n",
        "        'CatBoost': CatBoostClassifier(verbose=0),\n",
        "        'Neural Network': create_model(X_train.shape[1])\n",
        "    }\n",
        "\n",
        "    results = []\n",
        "    for name, model in models.items():\n",
        "        start_time = time.time()\n",
        "        if name == 'Neural Network':\n",
        "            model.fit(X_train, y_train, epochs=10, batch_size=32, verbose=0)\n",
        "            pred = (model.predict(X_test) > 0.5).flatten()\n",
        "        else:\n",
        "            model.fit(X_train, y_train)\n",
        "            pred = model.predict(X_test)\n",
        "        elapsed_time = time.time() - start_time\n",
        "        accuracy = accuracy_score(y_test, pred)\n",
        "        f1 = f1_score(y_test, pred)\n",
        "\n",
        "        results.append({\n",
        "            'model': name,\n",
        "            'time': elapsed_time,\n",
        "            'accuracy': accuracy,\n",
        "            'f1_score': f1\n",
        "        })\n",
        "\n",
        "    plot_results(results)"
      ],
      "metadata": {
        "id": "Hpqrk8-h-BXh"
      },
      "execution_count": null,
      "outputs": []
    },
    {
      "cell_type": "code",
      "source": [
        "def plot_results(results):\n",
        "    labels = [r['model'] for r in results]\n",
        "    time_vals = [r['time'] for r in results]\n",
        "    accuracy_vals = [r['accuracy'] for r in results]\n",
        "    f1_vals = [r['f1_score'] for r in results]\n",
        "\n",
        "    x = np.arange(len(labels))  # the label locations\n",
        "    width = 0.25  # the width of the bars\n",
        "\n",
        "    fig, ax = plt.subplots(figsize=(12, 8))\n",
        "    rects1 = ax.bar(x - width, time_vals, width, label='Time (s)', color='magenta')\n",
        "    rects2 = ax.bar(x, accuracy_vals, width, label='Accuracy', color='cyan')\n",
        "    rects3 = ax.bar(x + width, f1_vals, width, label='F1 Score', color='lime')\n",
        "\n",
        "    ax.set_xlabel('Model')\n",
        "    ax.set_title('Performance comparison')\n",
        "    ax.set_xticks(x)\n",
        "    ax.set_xticklabels(labels)\n",
        "    ax.legend()\n",
        "\n",
        "    # Adding value labels on top of each bar\n",
        "    def add_labels(rects):\n",
        "        for rect in rects:\n",
        "            height = rect.get_height()\n",
        "            ax.annotate('{}'.format(round(height, 2)),\n",
        "                        xy=(rect.get_x() + rect.get_width() / 2, height),\n",
        "                        xytext=(0, 3),  # 3 points vertical offset\n",
        "                        textcoords=\"offset points\",\n",
        "                        ha='center', va='bottom')\n",
        "\n",
        "    add_labels(rects1)\n",
        "    add_labels(rects2)\n",
        "    add_labels(rects3)\n",
        "\n",
        "    fig.tight_layout()\n",
        "    plt.show()\n",
        "\n",
        "def main():\n",
        "    data = load_data()\n",
        "    data = preprocess_data(data)\n",
        "    train_and_evaluate(data)\n",
        "\n",
        "if __name__ == \"__main__\":\n",
        "    main()"
      ],
      "metadata": {
        "colab": {
          "base_uri": "https://localhost:8080/",
          "height": 955
        },
        "id": "KRkbvOXutuKa",
        "outputId": "51276e19-82ec-44b6-ba53-5a9f06331497"
      },
      "execution_count": null,
      "outputs": [
        {
          "output_type": "stream",
          "name": "stdout",
          "text": [
            "[LightGBM] [Info] Number of positive: 354272, number of negative: 354236\n",
            "[LightGBM] [Info] Auto-choosing col-wise multi-threading, the overhead of testing was 0.049797 seconds.\n",
            "You can set `force_col_wise=true` to remove the overhead.\n",
            "[LightGBM] [Info] Total Bins 1273\n",
            "[LightGBM] [Info] Number of data points in the train set: 708508, number of used features: 6\n",
            "[LightGBM] [Info] [binary:BoostFromScore]: pavg=0.500025 -> initscore=0.000102\n",
            "[LightGBM] [Info] Start training from score 0.000102\n",
            "5536/5536 [==============================] - 8s 1ms/step\n"
          ]
        },
        {
          "output_type": "display_data",
          "data": {
            "text/plain": [
              "<Figure size 1200x800 with 1 Axes>"
            ],
            "image/png": "[encoded data removed]"
          },
          "metadata": {}
        }
      ]
    },
    {
      "cell_type": "code",
      "source": [
        "import matplotlib.pyplot as plt\n",
        "import numpy as np\n",
        "import pandas as pd\n",
        "import time\n",
        "from sklearn.model_selection import train_test_split\n",
        "from sklearn.preprocessing import LabelEncoder\n",
        "from sklearn.metrics import accuracy_score, f1_score\n",
        "import xgboost as xgb\n",
        "from sklearn.ensemble import RandomForestClassifier\n",
        "import lightgbm as lgb\n",
        "from catboost import CatBoostClassifier\n",
        "import tensorflow as tf\n",
        "\n",
        "def create_model(input_shape):\n",
        "    model = tf.keras.Sequential([\n",
        "        tf.keras.layers.Dense(128, activation='relu', input_shape=(input_shape,)),\n",
        "        tf.keras.layers.Dense(64, activation='relu'),\n",
        "        tf.keras.layers.Dense(1, activation='sigmoid')\n",
        "    ])\n",
        "    model.compile(optimizer='adam', loss='binary_crossentropy', metrics=['accuracy'])\n",
        "    return model\n",
        "\n",
        "def load_data():\n",
        "    # Dummy data loading\n",
        "    data = pd.read_csv('/content/drive/My Drive/0-Dataset/Projeto - Predict-Fraud - HPC/fraud_balanced.csv')\n",
        "    return data\n",
        "\n",
        "def preprocess_data(data):\n",
        "    label_encoder = LabelEncoder()\n",
        "    data['is_fraud'] = label_encoder.fit_transform(data['is_fraud'])\n",
        "    return data\n",
        "\n",
        "def train_and_evaluate(data):\n",
        "    X = data.drop('is_fraud', axis=1)\n",
        "    y = data['is_fraud']\n",
        "    X_train, X_test, y_train, y_test = train_test_split(X, y, test_size=0.2, random_state=42)\n",
        "\n",
        "    models = {\n",
        "        'XGBoost': xgb.XGBClassifier(use_label_encoder=False, eval_metric='logloss'),\n",
        "        'RandomForest': RandomForestClassifier(),\n",
        "        'LightGBM': lgb.LGBMClassifier(),\n",
        "        'CatBoost': CatBoostClassifier(verbose=0),\n",
        "        'Neural Network': create_model(X_train.shape[1])\n",
        "    }\n",
        "\n",
        "    results = []\n",
        "    for name, model in models.items():\n",
        "        start_time = time.time()\n",
        "        if name == 'Neural Network':\n",
        "            model.fit(X_train, y_train, epochs=10, batch_size=32, verbose=0)\n",
        "            pred = (model.predict(X_test) > 0.5).flatten()\n",
        "        else:\n",
        "            model.fit(X_train, y_train)\n",
        "            pred = model.predict(X_test)\n",
        "        elapsed_time = time.time() - start_time\n",
        "        accuracy = accuracy_score(y_test, pred)\n",
        "        f1 = f1_score(y_test, pred)\n",
        "\n",
        "        results.append({\n",
        "            'model': name,\n",
        "            'time': elapsed_time,\n",
        "            'accuracy': accuracy,\n",
        "            'f1_score': f1\n",
        "        })\n",
        "\n",
        "    plot_results(results)\n",
        "\n",
        "def plot_results(results):\n",
        "    labels = [r['model'] for r in results]\n",
        "    time_vals = [r['time'] for r in results]\n",
        "    accuracy_vals = [r['accuracy'] for r in results]\n",
        "    f1_vals = [r['f1_score'] for r in results]\n",
        "\n",
        "    x = np.arange(len(labels))  # the label locations\n",
        "    width = 0.25  # the width of the bars\n",
        "\n",
        "    fig, ax = plt.subplots(figsize=(12, 8))\n",
        "    rects1 = ax.bar(x - width, time_vals, width, label='Time (s)', color='magenta')\n",
        "    rects2 = ax.bar(x, accuracy_vals, width, label='Accuracy', color='cyan')\n",
        "    rects3 = ax.bar(x + width, f1_vals, width, label='F1 Score', color='lime')\n",
        "\n",
        "    ax.set_xlabel('Model')\n",
        "    ax.set_title('Performance comparison')\n",
        "    ax.set_xticks(x)\n",
        "    ax.set_xticklabels(labels)\n",
        "    ax.legend()\n",
        "\n",
        "    for rect in rects1 + rects2 + rects3:\n",
        "        height = rect.get_height()\n",
        "        ax.annotate(f'{height:.2f}',\n",
        "                    xy=(rect.get_x() + rect.get_width() / 2, height),\n",
        "                    xytext=(0, 3),  # 3 points vertical offset\n",
        "                    textcoords=\"offset points\",\n",
        "                    ha='center', va='bottom')\n",
        "\n",
        "    fig.tight_layout()\n",
        "    plt.show()\n",
        "\n",
        "def main():\n",
        "    data = load_data()\n",
        "    data = preprocess_data(data)\n",
        "    train_and_evaluate(data)\n",
        "\n",
        "if __name__ == \"__main__\":\n",
        "    main()\n"
      ],
      "metadata": {
        "colab": {
          "base_uri": "https://localhost:8080/",
          "height": 955
        },
        "id": "t9Cb8C-GuWkB",
        "outputId": "23c7bed5-be68-4c85-f481-550797ddcd4e"
      },
      "execution_count": null,
      "outputs": [
        {
          "output_type": "stream",
          "name": "stdout",
          "text": [
            "[LightGBM] [Info] Number of positive: 354272, number of negative: 354236\n",
            "[LightGBM] [Info] Auto-choosing col-wise multi-threading, the overhead of testing was 0.076561 seconds.\n",
            "You can set `force_col_wise=true` to remove the overhead.\n",
            "[LightGBM] [Info] Total Bins 1273\n",
            "[LightGBM] [Info] Number of data points in the train set: 708508, number of used features: 6\n",
            "[LightGBM] [Info] [binary:BoostFromScore]: pavg=0.500025 -> initscore=0.000102\n",
            "[LightGBM] [Info] Start training from score 0.000102\n",
            "5536/5536 [==============================] - 8s 1ms/step\n"
          ]
        },
        {
          "output_type": "display_data",
          "data": {
            "text/plain": [
              "<Figure size 1200x800 with 1 Axes>"
            ],
            "image/png": "[encoded data removed]"
          },
          "metadata": {}
        }
      ]
    }
  ]
}